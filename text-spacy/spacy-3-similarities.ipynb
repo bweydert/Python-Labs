{
 "cells": [
  {
   "cell_type": "markdown",
   "metadata": {},
   "source": [
    "# Lab : Spacy - Similarities\n",
    "Find out similar words!\n",
    "\n",
    "### Runtime\n",
    "10-15 minutes"
   ]
  },
  {
   "cell_type": "markdown",
   "metadata": {},
   "source": [
    "## Step 1 - Import"
   ]
  },
  {
   "cell_type": "code",
   "execution_count": 1,
   "metadata": {},
   "outputs": [
    {
     "name": "stdout",
     "output_type": "stream",
     "text": [
      "spacy version  2.0.16\n",
      "CPU times: user 583 ms, sys: 729 ms, total: 1.31 s\n",
      "Wall time: 285 ms\n"
     ]
    }
   ],
   "source": [
    "%%time\n",
    "import spacy\n",
    "print (\"spacy version \", spacy.__version__)\n"
   ]
  },
  {
   "cell_type": "markdown",
   "metadata": {},
   "source": [
    "## Step 2 - Download Model\n",
    "we can experiment with small/medium/large models.\n",
    "\n",
    "Beware, large model can take a long time to download and load!"
   ]
  },
  {
   "cell_type": "code",
   "execution_count": 2,
   "metadata": {},
   "outputs": [
    {
     "name": "stdout",
     "output_type": "stream",
     "text": [
      "Requirement already satisfied: en_core_web_sm==2.0.0 from https://github.com/explosion/spacy-models/releases/download/en_core_web_sm-2.0.0/en_core_web_sm-2.0.0.tar.gz#egg=en_core_web_sm==2.0.0 in /home/ubuntu/apps/anaconda/lib/python3.7/site-packages (2.0.0)\n",
      "\n",
      "\u001b[93m    Linking successful\u001b[0m\n",
      "    /home/ubuntu/apps/anaconda/lib/python3.7/site-packages/en_core_web_sm\n",
      "    -->\n",
      "    /home/ubuntu/apps/anaconda/lib/python3.7/site-packages/spacy/data/en_core_web_sm\n",
      "\n",
      "    You can now load the model via spacy.load('en_core_web_sm')\n",
      "\n"
     ]
    }
   ],
   "source": [
    "## Download the models\n",
    "\n",
    "spacy_model = 'en_core_web_sm'\n",
    "\n",
    "# medium\n",
    "# spacy_model = 'en_core_web_md'\n",
    "\n",
    "# large\n",
    "# spacy_model = 'en_core_web_lg'\n",
    "\n",
    "## small\n",
    "! python -m spacy download $spacy_model\n"
   ]
  },
  {
   "cell_type": "code",
   "execution_count": 3,
   "metadata": {},
   "outputs": [
    {
     "name": "stdout",
     "output_type": "stream",
     "text": [
      "CPU times: user 420 ms, sys: 59.3 ms, total: 479 ms\n",
      "Wall time: 477 ms\n"
     ]
    }
   ],
   "source": [
    "%%time\n",
    "## Load the right model\n",
    "nlp = spacy.load(spacy_model)"
   ]
  },
  {
   "cell_type": "markdown",
   "metadata": {},
   "source": [
    "## Step 3 - Find Similarities in words"
   ]
  },
  {
   "cell_type": "code",
   "execution_count": 4,
   "metadata": {},
   "outputs": [
    {
     "name": "stdout",
     "output_type": "stream",
     "text": [
      "city city 1.0\n",
      "city street 0.70332736\n",
      "city car 0.57243025\n",
      "city sky 0.5580164\n",
      "city cloud 0.5024667\n",
      "city burger 0.5801715\n",
      "city fries 0.060975846\n",
      "street city 0.70332736\n",
      "street street 1.0\n",
      "street car 0.7898453\n",
      "street sky 0.66647166\n",
      "street cloud 0.5415009\n",
      "street burger 0.58530027\n",
      "street fries 0.26605096\n",
      "car city 0.57243025\n",
      "car street 0.7898453\n",
      "car car 1.0\n",
      "car sky 0.72447985\n",
      "car cloud 0.47493303\n",
      "car burger 0.53809124\n",
      "car fries 0.15666784\n",
      "sky city 0.5580164\n",
      "sky street 0.66647166\n",
      "sky car 0.72447985\n",
      "sky sky 1.0\n",
      "sky cloud 0.5419915\n",
      "sky burger 0.5280861\n",
      "sky fries 0.1613128\n",
      "cloud city 0.5024667\n",
      "cloud street 0.5415009\n",
      "cloud car 0.47493303\n",
      "cloud sky 0.5419915\n",
      "cloud cloud 1.0\n",
      "cloud burger 0.5980704\n",
      "cloud fries 0.049697928\n",
      "burger city 0.5801715\n",
      "burger street 0.58530027\n",
      "burger car 0.53809124\n",
      "burger sky 0.5280861\n",
      "burger cloud 0.5980704\n",
      "burger burger 1.0\n",
      "burger fries 0.18530199\n",
      "fries city 0.060975846\n",
      "fries street 0.26605096\n",
      "fries car 0.15666784\n",
      "fries sky 0.1613128\n",
      "fries cloud 0.049697928\n",
      "fries burger 0.18530199\n",
      "fries fries 1.0\n"
     ]
    }
   ],
   "source": [
    "text = 'city street car sky cloud burger fries'\n",
    "\n",
    "doc = nlp(text)\n",
    "\n",
    "for t1 in doc:\n",
    "  for t2 in doc:\n",
    "    print(t1.text, t2.text, t1.similarity(t2))"
   ]
  },
  {
   "cell_type": "code",
   "execution_count": 5,
   "metadata": {},
   "outputs": [
    {
     "name": "stdout",
     "output_type": "stream",
     "text": [
      "            city    street       car       sky     cloud    burger     fries\n",
      "city    1.000000  0.703327  0.572430  0.558016  0.502467  0.580172  0.060976\n",
      "street  0.703327  1.000000  0.789845  0.666472  0.541501  0.585300  0.266051\n",
      "car     0.572430  0.789845  1.000000  0.724480  0.474933  0.538091  0.156668\n",
      "sky     0.558016  0.666472  0.724480  1.000000  0.541991  0.528086  0.161313\n",
      "cloud   0.502467  0.541501  0.474933  0.541991  1.000000  0.598070  0.049698\n",
      "burger  0.580172  0.585300  0.538091  0.528086  0.598070  1.000000  0.185302\n",
      "fries   0.060976  0.266051  0.156668  0.161313  0.049698  0.185302  1.000000\n"
     ]
    },
    {
     "data": {
      "text/html": [
       "<div>\n",
       "<style scoped>\n",
       "    .dataframe tbody tr th:only-of-type {\n",
       "        vertical-align: middle;\n",
       "    }\n",
       "\n",
       "    .dataframe tbody tr th {\n",
       "        vertical-align: top;\n",
       "    }\n",
       "\n",
       "    .dataframe thead th {\n",
       "        text-align: right;\n",
       "    }\n",
       "</style>\n",
       "<table border=\"1\" class=\"dataframe\">\n",
       "  <thead>\n",
       "    <tr style=\"text-align: right;\">\n",
       "      <th></th>\n",
       "      <th>city</th>\n",
       "      <th>street</th>\n",
       "      <th>car</th>\n",
       "      <th>sky</th>\n",
       "      <th>cloud</th>\n",
       "      <th>burger</th>\n",
       "      <th>fries</th>\n",
       "    </tr>\n",
       "  </thead>\n",
       "  <tbody>\n",
       "    <tr>\n",
       "      <td>city</td>\n",
       "      <td>1.000000</td>\n",
       "      <td>0.703327</td>\n",
       "      <td>0.572430</td>\n",
       "      <td>0.558016</td>\n",
       "      <td>0.502467</td>\n",
       "      <td>0.580172</td>\n",
       "      <td>0.060976</td>\n",
       "    </tr>\n",
       "    <tr>\n",
       "      <td>street</td>\n",
       "      <td>0.703327</td>\n",
       "      <td>1.000000</td>\n",
       "      <td>0.789845</td>\n",
       "      <td>0.666472</td>\n",
       "      <td>0.541501</td>\n",
       "      <td>0.585300</td>\n",
       "      <td>0.266051</td>\n",
       "    </tr>\n",
       "    <tr>\n",
       "      <td>car</td>\n",
       "      <td>0.572430</td>\n",
       "      <td>0.789845</td>\n",
       "      <td>1.000000</td>\n",
       "      <td>0.724480</td>\n",
       "      <td>0.474933</td>\n",
       "      <td>0.538091</td>\n",
       "      <td>0.156668</td>\n",
       "    </tr>\n",
       "    <tr>\n",
       "      <td>sky</td>\n",
       "      <td>0.558016</td>\n",
       "      <td>0.666472</td>\n",
       "      <td>0.724480</td>\n",
       "      <td>1.000000</td>\n",
       "      <td>0.541991</td>\n",
       "      <td>0.528086</td>\n",
       "      <td>0.161313</td>\n",
       "    </tr>\n",
       "    <tr>\n",
       "      <td>cloud</td>\n",
       "      <td>0.502467</td>\n",
       "      <td>0.541501</td>\n",
       "      <td>0.474933</td>\n",
       "      <td>0.541991</td>\n",
       "      <td>1.000000</td>\n",
       "      <td>0.598070</td>\n",
       "      <td>0.049698</td>\n",
       "    </tr>\n",
       "    <tr>\n",
       "      <td>burger</td>\n",
       "      <td>0.580172</td>\n",
       "      <td>0.585300</td>\n",
       "      <td>0.538091</td>\n",
       "      <td>0.528086</td>\n",
       "      <td>0.598070</td>\n",
       "      <td>1.000000</td>\n",
       "      <td>0.185302</td>\n",
       "    </tr>\n",
       "    <tr>\n",
       "      <td>fries</td>\n",
       "      <td>0.060976</td>\n",
       "      <td>0.266051</td>\n",
       "      <td>0.156668</td>\n",
       "      <td>0.161313</td>\n",
       "      <td>0.049698</td>\n",
       "      <td>0.185302</td>\n",
       "      <td>1.000000</td>\n",
       "    </tr>\n",
       "  </tbody>\n",
       "</table>\n",
       "</div>"
      ],
      "text/plain": [
       "            city    street       car       sky     cloud    burger     fries\n",
       "city    1.000000  0.703327  0.572430  0.558016  0.502467  0.580172  0.060976\n",
       "street  0.703327  1.000000  0.789845  0.666472  0.541501  0.585300  0.266051\n",
       "car     0.572430  0.789845  1.000000  0.724480  0.474933  0.538091  0.156668\n",
       "sky     0.558016  0.666472  0.724480  1.000000  0.541991  0.528086  0.161313\n",
       "cloud   0.502467  0.541501  0.474933  0.541991  1.000000  0.598070  0.049698\n",
       "burger  0.580172  0.585300  0.538091  0.528086  0.598070  1.000000  0.185302\n",
       "fries   0.060976  0.266051  0.156668  0.161313  0.049698  0.185302  1.000000"
      ]
     },
     "execution_count": 5,
     "metadata": {},
     "output_type": "execute_result"
    }
   ],
   "source": [
    "## Pretty Print\n",
    "import pandas as pd\n",
    "rows  = list(doc)\n",
    "df = pd.DataFrame (index=rows)\n",
    "\n",
    "\n",
    "for t1 in doc:\n",
    "  for t2 in doc:\n",
    "    #print(t1.text, t2.text, t1.similarity(t2))\n",
    "    df.at[t1, t2] = t1.similarity(t2)\n",
    "\n",
    "print(df)    \n",
    "df"
   ]
  },
  {
   "cell_type": "markdown",
   "metadata": {},
   "source": [
    "## Step 4 - Experiment\n",
    "For the first run we used the small model 'en_core_web_sm'.\n",
    "\n",
    "Make note of the similarity matrix (copy the output and save it in another txt file)\n",
    "\n",
    "IN Step-2 download a medium model.  \n",
    "Uncomment the following line\n",
    "```python\n",
    "# spacy_model = 'en_core_web_md'\n",
    "```\n",
    "And run the notebook again.  \n",
    "Do the similarities improve with larger model?"
   ]
  },
  {
   "cell_type": "code",
   "execution_count": null,
   "metadata": {},
   "outputs": [],
   "source": []
  }
 ],
 "metadata": {
  "kernelspec": {
   "display_name": "Python 3",
   "language": "python",
   "name": "python3"
  },
  "language_info": {
   "codemirror_mode": {
    "name": "ipython",
    "version": 3
   },
   "file_extension": ".py",
   "mimetype": "text/x-python",
   "name": "python",
   "nbconvert_exporter": "python",
   "pygments_lexer": "ipython3",
   "version": "3.7.3"
  }
 },
 "nbformat": 4,
 "nbformat_minor": 4
}
