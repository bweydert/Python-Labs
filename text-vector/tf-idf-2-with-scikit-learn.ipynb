{
 "cells": [
  {
   "cell_type": "markdown",
   "metadata": {},
   "source": [
    "# TFIDF with SciKit\n"
   ]
  },
  {
   "cell_type": "markdown",
   "metadata": {},
   "source": [
    "## Step 1 - Text"
   ]
  },
  {
   "cell_type": "code",
   "execution_count": null,
   "metadata": {},
   "outputs": [],
   "source": [
    "d0 = \"the brown dog likes the white cow\"\n",
    "d1 = \"the grass is brown\"\n",
    "d2 = \"the spotted cow likes green grass\"\n",
    "\n",
    "documents = [d0,d1,d2]"
   ]
  },
  {
   "cell_type": "markdown",
   "metadata": {},
   "source": [
    "## Step 2 - TFIDF"
   ]
  },
  {
   "cell_type": "code",
   "execution_count": 1,
   "metadata": {
    "collapsed": false,
    "jupyter": {
     "outputs_hidden": false
    }
   },
   "outputs": [
    {
     "name": "stdout",
     "output_type": "stream",
     "text": [
      "TfidfVectorizer(analyzer='word', binary=False, decode_error='strict',\n",
      "                dtype=<class 'numpy.float64'>, encoding='utf-8',\n",
      "                input='content', lowercase=True, max_df=1.0, max_features=None,\n",
      "                min_df=0, ngram_range=(1, 1), norm='l2', preprocessor=None,\n",
      "                smooth_idf=True, stop_words=None, strip_accents=None,\n",
      "                sublinear_tf=False, token_pattern='(?u)\\\\b\\\\w\\\\w+\\\\b',\n",
      "                tokenizer=None, use_idf=True, vocabulary=None)\n",
      "\n",
      "document-term matrix\n",
      "  (0, 1)\t0.3357637111628959\n",
      "  (0, 9)\t0.4414889304215962\n",
      "  (0, 6)\t0.3357637111628959\n",
      "  (0, 2)\t0.4414889304215962\n",
      "  (0, 0)\t0.3357637111628959\n",
      "  (0, 8)\t0.5215009486364797\n",
      "  (1, 5)\t0.6317450542765208\n",
      "  (1, 3)\t0.4804583972923858\n",
      "  (1, 0)\t0.4804583972923858\n",
      "  (1, 8)\t0.3731188059313277\n",
      "  (2, 4)\t0.49482970636510465\n",
      "  (2, 7)\t0.49482970636510465\n",
      "  (2, 3)\t0.37633074615060896\n",
      "  (2, 1)\t0.37633074615060896\n",
      "  (2, 6)\t0.37633074615060896\n",
      "  (2, 8)\t0.29225439586501756\n",
      "\n",
      "feature vectors\n",
      "0 brown\n",
      "1 cow\n",
      "2 dog\n",
      "3 grass\n",
      "4 green\n",
      "5 is\n",
      "6 likes\n",
      "7 spotted\n",
      "8 the\n",
      "9 white\n"
     ]
    }
   ],
   "source": [
    "from sklearn.feature_extraction.text import TfidfVectorizer\n",
    "\n",
    "# parameters\n",
    "# ngram_range=(min,max), here we are only doing 1 word\n",
    "# stop_words = None , 'english'\n",
    "tf = TfidfVectorizer(analyzer='word', ngram_range=(1,1), min_df = 0, stop_words=None)\n",
    "print(tf)\n",
    "tfidf_matrix =  tf.fit_transform(documents)\n",
    "print()\n",
    "print(\"document-term matrix\")\n",
    "print(tfidf_matrix)\n",
    "feature_names = tf.get_feature_names()\n",
    "print()\n",
    "print(\"feature vectors\")\n",
    "for i, feature in enumerate(feature_names):\n",
    "    print(i,feature)\n",
    "\n"
   ]
  },
  {
   "cell_type": "markdown",
   "metadata": {},
   "source": [
    "## Step 3 - Pretty Print"
   ]
  },
  {
   "cell_type": "code",
   "execution_count": 2,
   "metadata": {
    "collapsed": false,
    "jupyter": {
     "outputs_hidden": false
    }
   },
   "outputs": [
    {
     "name": "stdout",
     "output_type": "stream",
     "text": [
      "\n",
      "document term matrix\n",
      "   brown   cow   dog  grass  green    is  likes  spotted   the  white\n",
      "0   0.34  0.34  0.44   0.00   0.00  0.00   0.34     0.00  0.52   0.44\n",
      "1   0.48  0.00  0.00   0.48   0.00  0.63   0.00     0.00  0.37   0.00\n",
      "2   0.00  0.38  0.00   0.38   0.49  0.00   0.38     0.49  0.29   0.00\n",
      "\n",
      "term document matrix\n",
      "            0     1     2\n",
      "brown    0.34  0.48  0.00\n",
      "cow      0.34  0.00  0.38\n",
      "dog      0.44  0.00  0.00\n",
      "grass    0.00  0.48  0.38\n",
      "green    0.00  0.00  0.49\n",
      "is       0.00  0.63  0.00\n",
      "likes    0.34  0.00  0.38\n",
      "spotted  0.00  0.00  0.49\n",
      "the      0.52  0.37  0.29\n",
      "white    0.44  0.00  0.00\n"
     ]
    }
   ],
   "source": [
    "## Let's pretty print\n",
    "import pandas as pd\n",
    "df = pd.DataFrame()\n",
    "\n",
    "for doc, scores in enumerate(tfidf_matrix.toarray()):\n",
    "    #print(\"doc\" , doc, feature_names)\n",
    "    for i, score in enumerate(scores):\n",
    "        #print(i, feature_names[i], score)\n",
    "        df.at[doc,feature_names[i]] =  round(float(score),2)\n",
    "\n",
    "print(\"\\ndocument term matrix\")    \n",
    "print(df)\n",
    "\n",
    "print(\"\\nterm document matrix\")\n",
    "print(df.transpose())"
   ]
  },
  {
   "cell_type": "markdown",
   "metadata": {
    "jupyter": {
     "outputs_hidden": true
    }
   },
   "source": [
    "## Step 4 - Experiment\n",
    "- in Step-1, change stop words from 'None'  to 'english'  observe the DTM produced.\n",
    "- Add your own text in Step-1 and see the DTM"
   ]
  },
  {
   "cell_type": "code",
   "execution_count": null,
   "metadata": {},
   "outputs": [],
   "source": []
  }
 ],
 "metadata": {
  "kernelspec": {
   "display_name": "Python 3",
   "language": "python",
   "name": "python3"
  },
  "language_info": {
   "codemirror_mode": {
    "name": "ipython",
    "version": 3
   },
   "file_extension": ".py",
   "mimetype": "text/x-python",
   "name": "python",
   "nbconvert_exporter": "python",
   "pygments_lexer": "ipython3",
   "version": "3.7.3"
  }
 },
 "nbformat": 4,
 "nbformat_minor": 4
}
